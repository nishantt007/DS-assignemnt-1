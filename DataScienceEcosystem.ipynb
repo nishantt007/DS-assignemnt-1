{
 "cells": [
  {
   "cell_type": "markdown",
   "id": "7a707a20-c7fa-4f49-8980-4521911d6ea2",
   "metadata": {},
   "source": [
    "# Data Science Tool and Ecosystem"
   ]
  },
  {
   "cell_type": "markdown",
   "id": "7cf246e2-9f86-4dcf-8ba8-25ab1e7c277a",
   "metadata": {},
   "source": [
    "# **Objectives:**\n",
    "- List popular languages in Data Science\n",
    "- List popular libraries in Data Science\n",
    "- Perform arithmetic operations\n",
    "\n",
    "## Author\n",
    "Nishant"
   ]
  },
  {
   "cell_type": "markdown",
   "id": "1e64155a-1f5b-4e5b-8e61-10ae1619c65a",
   "metadata": {},
   "source": [
    "In this notebook, Data Science Tools and Ecosystem are summarized."
   ]
  },
  {
   "cell_type": "markdown",
   "id": "d9a8eda7-85fd-4ec7-a7bc-2d1c8a234336",
   "metadata": {},
   "source": [
    "Some of the popular languages that Data Scientists use are:\n",
    "\n",
    "1. Python\n",
    "2. R\n",
    "3. SQL"
   ]
  },
  {
   "cell_type": "markdown",
   "id": "7804ca7b-61ad-4443-bf5d-4e53f02d6ea9",
   "metadata": {
    "tags": []
   },
   "source": [
    "Some of the commonly used libraries used by Data Scientists include:\n",
    "    \n",
    "1. Sci-kit learn\n",
    "2. Numpy\n",
    "3. Pandas\n",
    "4. Matplotlib\n",
    "5. Seaborn"
   ]
  },
  {
   "cell_type": "markdown",
   "id": "c7b63a6c-7dc4-4680-b9e4-acc97ada8201",
   "metadata": {},
   "source": [
    "| Data Science Tools |\n",
    "| ------------------ |\n",
    "| Jupyter Notebook |\n",
    "| JupyterLabs |\n",
    "| R Studio |"
   ]
  },
  {
   "cell_type": "markdown",
   "id": "209cfd4b-f73e-4911-a011-ed3fe15027ac",
   "metadata": {},
   "source": [
    "### Below are a few examples of evaluating arithmetic expressions in Python"
   ]
  },
  {
   "cell_type": "code",
   "execution_count": 2,
   "id": "38263dbd-f21d-4d38-963d-c32a7ce10001",
   "metadata": {
    "tags": []
   },
   "outputs": [
    {
     "data": {
      "text/plain": [
       "17"
      ]
     },
     "execution_count": 2,
     "metadata": {},
     "output_type": "execute_result"
    }
   ],
   "source": [
    "# This a simple arithmetic expression to mutiply then add integers\n",
    "(3*4)+5"
   ]
  },
  {
   "cell_type": "code",
   "execution_count": 3,
   "id": "e470f72b-61ad-494d-a9d1-6cab51364c8e",
   "metadata": {
    "tags": []
   },
   "outputs": [
    {
     "data": {
      "text/plain": [
       "3.3333333333333335"
      ]
     },
     "execution_count": 3,
     "metadata": {},
     "output_type": "execute_result"
    }
   ],
   "source": [
    "#  This will convert 200 minutes to hours by diving by 60\n",
    "200 / 60"
   ]
  },
  {
   "cell_type": "code",
   "execution_count": null,
   "id": "07ee33d2-1941-4e9d-b588-65c9caf701b6",
   "metadata": {},
   "outputs": [],
   "source": []
  }
 ],
 "metadata": {
  "kernelspec": {
   "display_name": "Python",
   "language": "python",
   "name": "conda-env-python-py"
  },
  "language_info": {
   "codemirror_mode": {
    "name": "ipython",
    "version": 3
   },
   "file_extension": ".py",
   "mimetype": "text/x-python",
   "name": "python",
   "nbconvert_exporter": "python",
   "pygments_lexer": "ipython3",
   "version": "3.7.12"
  }
 },
 "nbformat": 4,
 "nbformat_minor": 5
}
